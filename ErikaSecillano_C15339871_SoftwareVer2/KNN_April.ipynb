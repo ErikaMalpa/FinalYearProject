{
 "cells": [
  {
   "cell_type": "markdown",
   "metadata": {},
   "source": [
    "# KNN"
   ]
  },
  {
   "cell_type": "code",
   "execution_count": 16,
   "metadata": {},
   "outputs": [],
   "source": [
    "from sklearn.decomposition import PCA\n",
    "import csv\n",
    "import random\n",
    "import math\n",
    "import operator\n",
    "import pandas as pd  \n",
    "import numpy as np\n",
    "from sklearn.model_selection import train_test_split\n",
    "from matplotlib.colors import ListedColormap\n",
    "import tensorflow as tf\n",
    "from sklearn.neighbors import KNeighborsClassifier\n",
    "import matplotlib.pyplot as plt\n",
    "import pylab as pl\n"
   ]
  },
  {
   "cell_type": "code",
   "execution_count": 2,
   "metadata": {},
   "outputs": [
    {
     "data": {
      "text/html": [
       "<div>\n",
       "<style scoped>\n",
       "    .dataframe tbody tr th:only-of-type {\n",
       "        vertical-align: middle;\n",
       "    }\n",
       "\n",
       "    .dataframe tbody tr th {\n",
       "        vertical-align: top;\n",
       "    }\n",
       "\n",
       "    .dataframe thead th {\n",
       "        text-align: right;\n",
       "    }\n",
       "</style>\n",
       "<table border=\"1\" class=\"dataframe\">\n",
       "  <thead>\n",
       "    <tr style=\"text-align: right;\">\n",
       "      <th></th>\n",
       "      <th>Class</th>\n",
       "      <th>gene_0</th>\n",
       "      <th>gene_1</th>\n",
       "      <th>gene_2</th>\n",
       "      <th>gene_3</th>\n",
       "      <th>gene_4</th>\n",
       "      <th>gene_5</th>\n",
       "      <th>gene_6</th>\n",
       "      <th>gene_7</th>\n",
       "      <th>gene_8</th>\n",
       "      <th>...</th>\n",
       "      <th>gene_20521</th>\n",
       "      <th>gene_20522</th>\n",
       "      <th>gene_20523</th>\n",
       "      <th>gene_20524</th>\n",
       "      <th>gene_20525</th>\n",
       "      <th>gene_20526</th>\n",
       "      <th>gene_20527</th>\n",
       "      <th>gene_20528</th>\n",
       "      <th>gene_20529</th>\n",
       "      <th>gene_20530</th>\n",
       "    </tr>\n",
       "  </thead>\n",
       "  <tbody>\n",
       "    <tr>\n",
       "      <th>0</th>\n",
       "      <td>3</td>\n",
       "      <td>0.0</td>\n",
       "      <td>2.017209</td>\n",
       "      <td>3.265527</td>\n",
       "      <td>5.478487</td>\n",
       "      <td>10.431999</td>\n",
       "      <td>0.0</td>\n",
       "      <td>7.175175</td>\n",
       "      <td>0.591871</td>\n",
       "      <td>0.0</td>\n",
       "      <td>...</td>\n",
       "      <td>4.926711</td>\n",
       "      <td>8.210257</td>\n",
       "      <td>9.723516</td>\n",
       "      <td>7.220030</td>\n",
       "      <td>9.119813</td>\n",
       "      <td>12.003135</td>\n",
       "      <td>9.650743</td>\n",
       "      <td>8.921326</td>\n",
       "      <td>5.286759</td>\n",
       "      <td>0.0</td>\n",
       "    </tr>\n",
       "    <tr>\n",
       "      <th>1</th>\n",
       "      <td>0</td>\n",
       "      <td>0.0</td>\n",
       "      <td>0.592732</td>\n",
       "      <td>1.588421</td>\n",
       "      <td>7.586157</td>\n",
       "      <td>9.623011</td>\n",
       "      <td>0.0</td>\n",
       "      <td>6.816049</td>\n",
       "      <td>0.000000</td>\n",
       "      <td>0.0</td>\n",
       "      <td>...</td>\n",
       "      <td>4.593372</td>\n",
       "      <td>7.323865</td>\n",
       "      <td>9.740931</td>\n",
       "      <td>6.256586</td>\n",
       "      <td>8.381612</td>\n",
       "      <td>12.674552</td>\n",
       "      <td>10.517059</td>\n",
       "      <td>9.397854</td>\n",
       "      <td>2.094168</td>\n",
       "      <td>0.0</td>\n",
       "    </tr>\n",
       "    <tr>\n",
       "      <th>2</th>\n",
       "      <td>3</td>\n",
       "      <td>0.0</td>\n",
       "      <td>3.511759</td>\n",
       "      <td>4.327199</td>\n",
       "      <td>6.881787</td>\n",
       "      <td>9.870730</td>\n",
       "      <td>0.0</td>\n",
       "      <td>6.972130</td>\n",
       "      <td>0.452595</td>\n",
       "      <td>0.0</td>\n",
       "      <td>...</td>\n",
       "      <td>5.125213</td>\n",
       "      <td>8.127123</td>\n",
       "      <td>10.908640</td>\n",
       "      <td>5.401607</td>\n",
       "      <td>9.911597</td>\n",
       "      <td>9.045255</td>\n",
       "      <td>9.788359</td>\n",
       "      <td>10.090470</td>\n",
       "      <td>1.683023</td>\n",
       "      <td>0.0</td>\n",
       "    </tr>\n",
       "    <tr>\n",
       "      <th>3</th>\n",
       "      <td>3</td>\n",
       "      <td>0.0</td>\n",
       "      <td>3.663618</td>\n",
       "      <td>4.507649</td>\n",
       "      <td>6.659068</td>\n",
       "      <td>10.196184</td>\n",
       "      <td>0.0</td>\n",
       "      <td>7.843375</td>\n",
       "      <td>0.434882</td>\n",
       "      <td>0.0</td>\n",
       "      <td>...</td>\n",
       "      <td>6.076566</td>\n",
       "      <td>8.792959</td>\n",
       "      <td>10.141520</td>\n",
       "      <td>8.942805</td>\n",
       "      <td>9.601208</td>\n",
       "      <td>11.392682</td>\n",
       "      <td>9.694814</td>\n",
       "      <td>9.684365</td>\n",
       "      <td>3.292001</td>\n",
       "      <td>0.0</td>\n",
       "    </tr>\n",
       "    <tr>\n",
       "      <th>4</th>\n",
       "      <td>1</td>\n",
       "      <td>0.0</td>\n",
       "      <td>2.655741</td>\n",
       "      <td>2.821547</td>\n",
       "      <td>6.539454</td>\n",
       "      <td>9.738265</td>\n",
       "      <td>0.0</td>\n",
       "      <td>6.566967</td>\n",
       "      <td>0.360982</td>\n",
       "      <td>0.0</td>\n",
       "      <td>...</td>\n",
       "      <td>5.996032</td>\n",
       "      <td>8.891425</td>\n",
       "      <td>10.373790</td>\n",
       "      <td>7.181162</td>\n",
       "      <td>9.846910</td>\n",
       "      <td>11.922439</td>\n",
       "      <td>9.217749</td>\n",
       "      <td>9.461191</td>\n",
       "      <td>5.110372</td>\n",
       "      <td>0.0</td>\n",
       "    </tr>\n",
       "  </tbody>\n",
       "</table>\n",
       "<p>5 rows × 20532 columns</p>\n",
       "</div>"
      ],
      "text/plain": [
       "   Class  gene_0    gene_1    gene_2    gene_3     gene_4  gene_5    gene_6  \\\n",
       "0      3     0.0  2.017209  3.265527  5.478487  10.431999     0.0  7.175175   \n",
       "1      0     0.0  0.592732  1.588421  7.586157   9.623011     0.0  6.816049   \n",
       "2      3     0.0  3.511759  4.327199  6.881787   9.870730     0.0  6.972130   \n",
       "3      3     0.0  3.663618  4.507649  6.659068  10.196184     0.0  7.843375   \n",
       "4      1     0.0  2.655741  2.821547  6.539454   9.738265     0.0  6.566967   \n",
       "\n",
       "     gene_7  gene_8     ...      gene_20521  gene_20522  gene_20523  \\\n",
       "0  0.591871     0.0     ...        4.926711    8.210257    9.723516   \n",
       "1  0.000000     0.0     ...        4.593372    7.323865    9.740931   \n",
       "2  0.452595     0.0     ...        5.125213    8.127123   10.908640   \n",
       "3  0.434882     0.0     ...        6.076566    8.792959   10.141520   \n",
       "4  0.360982     0.0     ...        5.996032    8.891425   10.373790   \n",
       "\n",
       "   gene_20524  gene_20525  gene_20526  gene_20527  gene_20528  gene_20529  \\\n",
       "0    7.220030    9.119813   12.003135    9.650743    8.921326    5.286759   \n",
       "1    6.256586    8.381612   12.674552   10.517059    9.397854    2.094168   \n",
       "2    5.401607    9.911597    9.045255    9.788359   10.090470    1.683023   \n",
       "3    8.942805    9.601208   11.392682    9.694814    9.684365    3.292001   \n",
       "4    7.181162    9.846910   11.922439    9.217749    9.461191    5.110372   \n",
       "\n",
       "   gene_20530  \n",
       "0         0.0  \n",
       "1         0.0  \n",
       "2         0.0  \n",
       "3         0.0  \n",
       "4         0.0  \n",
       "\n",
       "[5 rows x 20532 columns]"
      ]
     },
     "execution_count": 2,
     "metadata": {},
     "output_type": "execute_result"
    }
   ],
   "source": [
    "#read the data\n",
    "df = pd.read_csv('./data/joinedData.csv', sep=r'\\s*(?:\\||\\#|\\,)\\s*',\n",
    "                 engine='python')\n",
    "\n",
    "#change the classes to numbers\n",
    "Class = {'LUAD': 0,'BRCA': 1,'KIRC': 2,'PRAD': 3,'COAD': 4} \n",
    "df.Class = [Class[item] for item in df.Class] \n",
    "df = df.drop('Unnamed: 0',1)\n",
    "df = df.drop('Unnamed: 0.1',1)\n",
    "df.head()\n"
   ]
  },
  {
   "cell_type": "code",
   "execution_count": 3,
   "metadata": {},
   "outputs": [],
   "source": [
    "df = df[['Class','gene_219', 'gene_220', 'gene_450', 'gene_1858', 'gene_3439',\n",
    "       'gene_3737', 'gene_3921', 'gene_6733', 'gene_7421', 'gene_7896',\n",
    "       'gene_7964', 'gene_9175', 'gene_9176', 'gene_13818', 'gene_14114',\n",
    "       'gene_15895', 'gene_15898', 'gene_16169', 'gene_16392', 'gene_18135']]\n",
    "\n"
   ]
  },
  {
   "cell_type": "code",
   "execution_count": 4,
   "metadata": {},
   "outputs": [],
   "source": [
    "#Split the dataframe into X and y, y containing only the class column\n",
    "X = df.drop('Class', axis=1).values\n",
    "y = df['Class'].values\n",
    "y = np.asarray(y)\n",
    "X\n",
    "\n",
    "#Standardize data\n",
    "X = (X - X.mean()) / (X.max() - X.min())\n"
   ]
  },
  {
   "cell_type": "code",
   "execution_count": 5,
   "metadata": {},
   "outputs": [
    {
     "data": {
      "text/plain": [
       "array([[ 0.3231313 ,  0.2711247 ,  0.30505566, ...,  0.31563199,\n",
       "         0.33233632, -0.15995426],\n",
       "       [-0.11868656, -0.15995426, -0.15995426, ..., -0.15995426,\n",
       "        -0.08284833, -0.15995426],\n",
       "       [ 0.39129065,  0.32533128,  0.26868902, ...,  0.42837468,\n",
       "         0.39384399, -0.15995426],\n",
       "       ...,\n",
       "       [-0.15995426, -0.15995426, -0.14398571, ..., -0.15995426,\n",
       "        -0.15995426, -0.15995426],\n",
       "       [-0.15995426, -0.15995426, -0.15995426, ..., -0.13019152,\n",
       "        -0.15995426, -0.15995426],\n",
       "       [-0.15995426, -0.15995426, -0.13883387, ..., -0.13883387,\n",
       "        -0.04901804, -0.15995426]])"
      ]
     },
     "execution_count": 5,
     "metadata": {},
     "output_type": "execute_result"
    }
   ],
   "source": [
    "#Split the training and testing data\n",
    "X_train, X_test, y_train, y_test = train_test_split(X, y, test_size = 0.20)  \n",
    "X_train"
   ]
  },
  {
   "cell_type": "code",
   "execution_count": 7,
   "metadata": {},
   "outputs": [],
   "source": [
    "\n",
    "#using k=n^(1/2) where n = columns, therefore it's 143.2 \n",
    "K = 143"
   ]
  },
  {
   "cell_type": "code",
   "execution_count": 8,
   "metadata": {},
   "outputs": [],
   "source": [
    "clf = KNeighborsClassifier(n_neighbors=K, weights='distance')"
   ]
  },
  {
   "cell_type": "code",
   "execution_count": 9,
   "metadata": {},
   "outputs": [
    {
     "data": {
      "text/plain": [
       "KNeighborsClassifier(algorithm='auto', leaf_size=30, metric='minkowski',\n",
       "           metric_params=None, n_jobs=None, n_neighbors=143, p=2,\n",
       "           weights='distance')"
      ]
     },
     "execution_count": 9,
     "metadata": {},
     "output_type": "execute_result"
    }
   ],
   "source": [
    "clf.fit(X_train, y_train)"
   ]
  },
  {
   "cell_type": "code",
   "execution_count": 10,
   "metadata": {},
   "outputs": [
    {
     "name": "stdout",
     "output_type": "stream",
     "text": [
      "0.9751552795031055\n"
     ]
    }
   ],
   "source": [
    "accuracy = clf.score(X_test, y_test)\n",
    "print(accuracy)"
   ]
  },
  {
   "cell_type": "code",
   "execution_count": 11,
   "metadata": {},
   "outputs": [
    {
     "data": {
      "text/html": [
       "<div>\n",
       "<style scoped>\n",
       "    .dataframe tbody tr th:only-of-type {\n",
       "        vertical-align: middle;\n",
       "    }\n",
       "\n",
       "    .dataframe tbody tr th {\n",
       "        vertical-align: top;\n",
       "    }\n",
       "\n",
       "    .dataframe thead th {\n",
       "        text-align: right;\n",
       "    }\n",
       "</style>\n",
       "<table border=\"1\" class=\"dataframe\">\n",
       "  <thead>\n",
       "    <tr style=\"text-align: right;\">\n",
       "      <th></th>\n",
       "      <th>gene_219</th>\n",
       "      <th>gene_220</th>\n",
       "      <th>gene_450</th>\n",
       "      <th>gene_1858</th>\n",
       "      <th>gene_3439</th>\n",
       "      <th>gene_3737</th>\n",
       "      <th>gene_3921</th>\n",
       "      <th>gene_6733</th>\n",
       "      <th>gene_7421</th>\n",
       "      <th>gene_7896</th>\n",
       "      <th>gene_7964</th>\n",
       "      <th>gene_9175</th>\n",
       "      <th>gene_9176</th>\n",
       "      <th>gene_13818</th>\n",
       "      <th>gene_14114</th>\n",
       "      <th>gene_15895</th>\n",
       "      <th>gene_15898</th>\n",
       "      <th>gene_16169</th>\n",
       "      <th>gene_16392</th>\n",
       "      <th>gene_18135</th>\n",
       "    </tr>\n",
       "  </thead>\n",
       "  <tbody>\n",
       "    <tr>\n",
       "      <th>800</th>\n",
       "      <td>1.603929</td>\n",
       "      <td>0.0</td>\n",
       "      <td>0.0</td>\n",
       "      <td>0.0</td>\n",
       "      <td>0.0</td>\n",
       "      <td>10.048405</td>\n",
       "      <td>0.0</td>\n",
       "      <td>1.603929</td>\n",
       "      <td>11.746754</td>\n",
       "      <td>3.195174</td>\n",
       "      <td>1.603929</td>\n",
       "      <td>15.605103</td>\n",
       "      <td>16.864488</td>\n",
       "      <td>0.0</td>\n",
       "      <td>0.0</td>\n",
       "      <td>0.0</td>\n",
       "      <td>0.0</td>\n",
       "      <td>1.238665</td>\n",
       "      <td>0.0</td>\n",
       "      <td>8.390233</td>\n",
       "    </tr>\n",
       "  </tbody>\n",
       "</table>\n",
       "</div>"
      ],
      "text/plain": [
       "     gene_219  gene_220  gene_450  gene_1858  gene_3439  gene_3737  gene_3921  \\\n",
       "800  1.603929       0.0       0.0        0.0        0.0  10.048405        0.0   \n",
       "\n",
       "     gene_6733  gene_7421  gene_7896  gene_7964  gene_9175  gene_9176  \\\n",
       "800   1.603929  11.746754   3.195174   1.603929  15.605103  16.864488   \n",
       "\n",
       "     gene_13818  gene_14114  gene_15895  gene_15898  gene_16169  gene_16392  \\\n",
       "800         0.0         0.0         0.0         0.0    1.238665         0.0   \n",
       "\n",
       "     gene_18135  \n",
       "800    8.390233  "
      ]
     },
     "execution_count": 11,
     "metadata": {},
     "output_type": "execute_result"
    }
   ],
   "source": [
    "df2 = df.drop('Class',1)\n",
    "test = df2.iloc[[800]]\n",
    "test"
   ]
  },
  {
   "cell_type": "code",
   "execution_count": 12,
   "metadata": {},
   "outputs": [
    {
     "name": "stdout",
     "output_type": "stream",
     "text": [
      "The test is: \n",
      "[3]\n"
     ]
    }
   ],
   "source": [
    "print (\"The test is: \")\n",
    "print(clf.predict(test))"
   ]
  },
  {
   "cell_type": "code",
   "execution_count": 13,
   "metadata": {},
   "outputs": [
    {
     "name": "stdout",
     "output_type": "stream",
     "text": [
      "The right answer is: \n"
     ]
    },
    {
     "data": {
      "text/html": [
       "<div>\n",
       "<style scoped>\n",
       "    .dataframe tbody tr th:only-of-type {\n",
       "        vertical-align: middle;\n",
       "    }\n",
       "\n",
       "    .dataframe tbody tr th {\n",
       "        vertical-align: top;\n",
       "    }\n",
       "\n",
       "    .dataframe thead th {\n",
       "        text-align: right;\n",
       "    }\n",
       "</style>\n",
       "<table border=\"1\" class=\"dataframe\">\n",
       "  <thead>\n",
       "    <tr style=\"text-align: right;\">\n",
       "      <th></th>\n",
       "      <th>Class</th>\n",
       "      <th>gene_219</th>\n",
       "      <th>gene_220</th>\n",
       "      <th>gene_450</th>\n",
       "      <th>gene_1858</th>\n",
       "      <th>gene_3439</th>\n",
       "      <th>gene_3737</th>\n",
       "      <th>gene_3921</th>\n",
       "      <th>gene_6733</th>\n",
       "      <th>gene_7421</th>\n",
       "      <th>...</th>\n",
       "      <th>gene_7964</th>\n",
       "      <th>gene_9175</th>\n",
       "      <th>gene_9176</th>\n",
       "      <th>gene_13818</th>\n",
       "      <th>gene_14114</th>\n",
       "      <th>gene_15895</th>\n",
       "      <th>gene_15898</th>\n",
       "      <th>gene_16169</th>\n",
       "      <th>gene_16392</th>\n",
       "      <th>gene_18135</th>\n",
       "    </tr>\n",
       "  </thead>\n",
       "  <tbody>\n",
       "    <tr>\n",
       "      <th>800</th>\n",
       "      <td>3</td>\n",
       "      <td>1.603929</td>\n",
       "      <td>0.0</td>\n",
       "      <td>0.0</td>\n",
       "      <td>0.0</td>\n",
       "      <td>0.0</td>\n",
       "      <td>10.048405</td>\n",
       "      <td>0.0</td>\n",
       "      <td>1.603929</td>\n",
       "      <td>11.746754</td>\n",
       "      <td>...</td>\n",
       "      <td>1.603929</td>\n",
       "      <td>15.605103</td>\n",
       "      <td>16.864488</td>\n",
       "      <td>0.0</td>\n",
       "      <td>0.0</td>\n",
       "      <td>0.0</td>\n",
       "      <td>0.0</td>\n",
       "      <td>1.238665</td>\n",
       "      <td>0.0</td>\n",
       "      <td>8.390233</td>\n",
       "    </tr>\n",
       "  </tbody>\n",
       "</table>\n",
       "<p>1 rows × 21 columns</p>\n",
       "</div>"
      ],
      "text/plain": [
       "     Class  gene_219  gene_220  gene_450  gene_1858  gene_3439  gene_3737  \\\n",
       "800      3  1.603929       0.0       0.0        0.0        0.0  10.048405   \n",
       "\n",
       "     gene_3921  gene_6733  gene_7421     ...      gene_7964  gene_9175  \\\n",
       "800        0.0   1.603929  11.746754     ...       1.603929  15.605103   \n",
       "\n",
       "     gene_9176  gene_13818  gene_14114  gene_15895  gene_15898  gene_16169  \\\n",
       "800  16.864488         0.0         0.0         0.0         0.0    1.238665   \n",
       "\n",
       "     gene_16392  gene_18135  \n",
       "800         0.0    8.390233  \n",
       "\n",
       "[1 rows x 21 columns]"
      ]
     },
     "execution_count": 13,
     "metadata": {},
     "output_type": "execute_result"
    }
   ],
   "source": [
    "print (\"The right answer is: \")\n",
    "check = df.iloc[[800]]\n",
    "check\n"
   ]
  },
  {
   "cell_type": "code",
   "execution_count": 14,
   "metadata": {},
   "outputs": [],
   "source": [
    "pca = PCA(n_components=2).fit(X_train)\n",
    "pcaX_train = pca.transform(X_train)"
   ]
  },
  {
   "cell_type": "code",
   "execution_count": 18,
   "metadata": {},
   "outputs": [],
   "source": [
    "h = .02 # step size in the mesh\n",
    "\n",
    "# the color maps\n",
    "cmap_light = ListedColormap(['#DDA0DD', '#FFFF00','#40E0D0','#DC143C','#7CFC00'])\n",
    "clf.fit(pcaX_train, y_train)\n",
    "\n",
    "# Plot the decision boundary. For that, we will asign a color to each\n",
    "# point in the mesh [x_min, m_max]x[y_min, y_max].\n",
    "x_min, x_max = pcaX_train[:,0].min() - 1, pcaX_train[:,0].max() + 1\n",
    "y_min, y_max = pcaX_train[:,1].min() - 1, pcaX_train[:,1].max() + 1\n",
    "xx, yy = np.meshgrid(np.arange(x_min, x_max, h), np.arange(y_min, y_max, h))\n",
    "\n",
    "Z = clf.predict(np.c_[xx.ravel(), yy.ravel()])\n",
    "\n"
   ]
  },
  {
   "cell_type": "code",
   "execution_count": 19,
   "metadata": {},
   "outputs": [
    {
     "data": {
      "image/png": "[encoded data removed]",
      "text/plain": [
       "<Figure size 432x288 with 1 Axes>"
      ]
     },
     "metadata": {
      "needs_background": "light"
     },
     "output_type": "display_data"
    }
   ],
   "source": [
    "# Put the result into a color plot\n",
    "Z = Z.reshape(xx.shape)\n",
    "plt.figure()\n",
    "plt.pcolormesh(xx, yy, Z, cmap=cmap_light)\n",
    "\n",
    "for i in range(0, pcaX_train.shape[0]):\n",
    "    if y_train[i] == 0:\n",
    "        c1 = pl.scatter(pcaX_train[i,0],pcaX_train[i,1],c='#800080',s=10)\n",
    "    elif y_train[i] == 1:\n",
    "        c2 = pl.scatter(pcaX_train[i,0],pcaX_train[i,1],c='#8B8B00',s=10)\n",
    "    elif y_train[i] == 2:\n",
    "        c3 = pl.scatter(pcaX_train[i,0],pcaX_train[i,1],c='#00868B',s=10)\n",
    "    elif y_train[i] == 3:\n",
    "        c4 = pl.scatter(pcaX_train[i,0],pcaX_train[i,1],c='#B22222',s=10)\n",
    "    elif y_train[i] == 4:\n",
    "        c5 = pl.scatter(pcaX_train[i,0],pcaX_train[i,1],c='#3CB371',s=10)\n",
    "\n",
    "# Plot also the training points\n",
    "plt.xlim(xx.min(), xx.max())\n",
    "plt.ylim(yy.min(), yy.max())\n",
    "plt.title(\"5-Class classification (k = %i)\" % (K))\n",
    "plt.show()\n"
   ]
  },
  {
   "cell_type": "markdown",
   "metadata": {},
   "source": [
    "### References \n",
    "#### The code was obtained by using sklearn\n",
    "#### http://ogrisel.github.io/scikit-learn.org/sklearn-tutorial/auto_examples/tutorial/plot_knn_iris.html\n",
    "#### https://scikit-learn.org/stable/modules/generated/sklearn.neighbors.KNeighborsClassifier.html\n",
    "#### https://scikit-learn.org/stable/modules/generated/sklearn.decomposition.PCA.html\n",
    "\n",
    "### References in Vancouver\n",
    "#### 1. sklearn.neighbors.KNeighborsClassifier — scikit-learn 0.20.1 documentation [Internet]. Scikit-learn.org. [cited 4 December 2018]. Available from: https://scikit-learn.org/stable/modules/generated/sklearn.neighbors.KNeighborsClassifier.html\n",
    "#### 2. sklearn.decomposition.PCA — scikit-learn 0.20.1 documentation [Internet]. Scikit-learn.org. [cited 4 December 2018]. Available from: https://scikit-learn.org/stable/modules/generated/sklearn.decomposition.PCA.html\n",
    "#### 3. KNN (k-nearest neighbors) classification example — scikit-learn 0.11-git documentation [Internet]. Ogrisel.github.io. [cited 4 December 2018]. Available from: http://ogrisel.github.io/scikit-learn.org/sklearn-tutorial/auto_examples/tutorial/plot_knn_iris.html\n"
   ]
  },
  {
   "cell_type": "code",
   "execution_count": null,
   "metadata": {},
   "outputs": [],
   "source": []
  }
 ],
 "metadata": {
  "kernelspec": {
   "display_name": "Python 3",
   "language": "python",
   "name": "python3"
  },
  "language_info": {
   "codemirror_mode": {
    "name": "ipython",
    "version": 3
   },
   "file_extension": ".py",
   "mimetype": "text/x-python",
   "name": "python",
   "nbconvert_exporter": "python",
   "pygments_lexer": "ipython3",
   "version": "3.7.1"
  }
 },
 "nbformat": 4,
 "nbformat_minor": 2
}
